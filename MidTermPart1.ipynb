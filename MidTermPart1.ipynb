{
  "nbformat": 4,
  "nbformat_minor": 0,
  "metadata": {
    "kernelspec": {
      "name": "python3",
      "display_name": "Python 3"
    },
    "colab": {
      "name": "MidTermPart1.ipynb",
      "provenance": [],
      "collapsed_sections": [],
      "include_colab_link": true
    },
    "accelerator": "GPU"
  },
  "cells": [
    {
      "cell_type": "markdown",
      "metadata": {
        "id": "view-in-github",
        "colab_type": "text"
      },
      "source": [
        "<a href=\"https://colab.research.google.com/github/moonryul/course-v3/blob/master/MidTermPart1.ipynb\" target=\"_parent\"><img src=\"https://colab.research.google.com/assets/colab-badge.svg\" alt=\"Open In Colab\"/></a>"
      ]
    },
    {
      "cell_type": "markdown",
      "metadata": {
        "id": "n_qG9HgKHLvH"
      },
      "source": [
        "# Lesson 1 - What's your pet"
      ]
    },
    {
      "cell_type": "markdown",
      "metadata": {
        "id": "438w0GOrLyEy"
      },
      "source": [
        "MidTerm Part 1: Write your answers in this notebook and submit it to your github. This notebook is not complete, and you need to fill it to make it work. You may need to read the manual for some functions and classes."
      ]
    },
    {
      "cell_type": "code",
      "metadata": {
        "id": "p-SmmD4FHLvJ"
      },
      "source": [
        "%reload_ext autoreload\n",
        "%autoreload 2\n",
        "%matplotlib inline"
      ],
      "execution_count": null,
      "outputs": []
    },
    {
      "cell_type": "markdown",
      "metadata": {
        "id": "ZwgPmJWMHLvQ"
      },
      "source": [
        "We import all the necessary packages. We are going to work with the [fastai V1 library](http://www.fast.ai/2018/10/02/fastai-ai/) which sits on top of [Pytorch 1.0](https://hackernoon.com/pytorch-1-0-468332ba5163). The fastai library provides many useful functions that enable us to quickly and easily build neural networks and train our models."
      ]
    },
    {
      "cell_type": "code",
      "metadata": {
        "id": "l9M8E4KYHLvR"
      },
      "source": [
        "from fastai.vision import *\n",
        "from fastai.metrics import error_rate"
      ],
      "execution_count": null,
      "outputs": []
    },
    {
      "cell_type": "markdown",
      "metadata": {
        "id": "R7_vZc4sHLvX"
      },
      "source": [
        "If you're using a computer with an unusually small GPU, you may get an out of memory error when running this notebook. If this happens, click Kernel->Restart, uncomment the 2nd line below to use a smaller *batch size* (you'll learn all about what this means during the course), and try again."
      ]
    },
    {
      "cell_type": "code",
      "metadata": {
        "id": "KFilUCDsHLvX"
      },
      "source": [
        "bs = 64"
      ],
      "execution_count": null,
      "outputs": []
    },
    {
      "cell_type": "markdown",
      "metadata": {
        "id": "9V2YbIddHLvc"
      },
      "source": [
        "## Looking at the data"
      ]
    },
    {
      "cell_type": "markdown",
      "metadata": {
        "id": "uqox3CstHLvd"
      },
      "source": [
        "We are going to use the [Oxford-IIIT Pet Dataset](http://www.robots.ox.ac.uk/~vgg/data/pets/) by [O. M. Parkhi et al., 2012](http://www.robots.ox.ac.uk/~vgg/publications/2012/parkhi12a/parkhi12a.pdf) which features 12 cat breeds and 25 dogs breeds. Our model will need to learn to differentiate between these 37 distinct categories. \n",
        "\n",
        "We are going to use the `untar_data` function to which we must pass a URL as an argument and which will download and extract the data."
      ]
    },
    {
      "cell_type": "code",
      "metadata": {
        "id": "5SbtzYMvHLve"
      },
      "source": [
        "help(untar_data)"
      ],
      "execution_count": null,
      "outputs": []
    },
    {
      "cell_type": "code",
      "metadata": {
        "id": "EquKIgTUHLvj"
      },
      "source": [
        "path = untar_data(URLs.PETS); \n",
        "# Question 1. 1.1) What is the value of variable URLs.PETS?\n",
        "# 1.2) From which package would URLs.PETS have been imported?\n",
        "# 1.3) To which folder in your remote colab machine is the content of URLs.PETS downloaded?\n",
        "# 1.4) What are the contents of this folder?"
      ],
      "execution_count": null,
      "outputs": []
    },
    {
      "cell_type": "markdown",
      "metadata": {
        "id": "lh8HX575HLv0"
      },
      "source": [
        "The first thing we do when we approach a problem is to take a look at the data. We _always_ need to understand very well what the problem is and what the data looks like before we can figure out how to solve it. Taking a look at the data means understanding how the data directories are structured, what the labels are and what some sample images look like.\n"
      ]
    },
    {
      "cell_type": "code",
      "metadata": {
        "id": "5DBhbOefHLv0"
      },
      "source": [
        "# Question 2. 2.1) Show me the names of 10 image files from the folder to which the image files were downloaded.\n",
        "# Use function get_image_files() to do this.\n",
        "# 2.2) Having see the names of the image files, can you guess what the name of each\n",
        "# image file represent?"
      ],
      "execution_count": null,
      "outputs": []
    },
    {
      "cell_type": "code",
      "metadata": {
        "id": "Zw-NtLyaHLv5"
      },
      "source": [
        "np.random.seed(2)\n",
        "pat = r'/([^/]+)_\\d+.jpg$'"
      ],
      "execution_count": null,
      "outputs": []
    },
    {
      "cell_type": "code",
      "metadata": {
        "id": "YBidkLxkHLv8"
      },
      "source": [
        "dataBunch = ImageDataBunch.from_name_re(....).normalize(imagenet_stats)\n",
        "# Question 3. 3.1) Use function from_name_re of class ImageDataBunch to create a \"dataBunch\".\n",
        "# The dataBunch contains information about the size of the batch, the images to be used for training\n",
        "# the neural network and their labels, the images to be used for validating the neural network and their labels.\n",
        "                 \n",
        "                                "
      ],
      "execution_count": null,
      "outputs": []
    },
    {
      "cell_type": "code",
      "metadata": {
        "id": "sMeaWlVrVHUK"
      },
      "source": [
        "# Question 4. Please answer the following questions about the created dataBunch: \n",
        "# 4.1) How many image items does the Train dataset contain?\n",
        "# 4.2) How many category items does the Train dataset contain?\n",
        "# 4.3) How many image items does the Validation dataset contain?\n",
        "# 4.4) How many category items does the Validation dataset contain?"
      ],
      "execution_count": null,
      "outputs": []
    },
    {
      "cell_type": "code",
      "metadata": {
        "id": "txPQAHXuHLwD"
      },
      "source": [
        " # Question 5. 5.1) Show me 10 data items from the created dataBunch?\n",
        " # 5.2) Show the number of classes in the dataBunch by executing an appropriate method of dataBunch object?"
      ],
      "execution_count": null,
      "outputs": []
    },
    {
      "cell_type": "markdown",
      "metadata": {
        "id": "UfzZm9XAHLwK"
      },
      "source": [
        "## Training: resnet34"
      ]
    },
    {
      "cell_type": "markdown",
      "metadata": {
        "id": "MWx2m8MnHLwK"
      },
      "source": [
        "Now we will use a [convolutional neural network](http://cs231n.github.io/convolutional-networks/) backbone and a fully connected head with a single hidden layer as a classifier. Specifically, we will use reset34. We are in fact building a function which will take an image as input and will compute an output for the input. \n",
        "\n",
        "Question 6. What kind of information does this output represent?\n"
      ]
    },
    {
      "cell_type": "code",
      "metadata": {
        "id": "esgxmIWhHLwL"
      },
      "source": [
        "learner = cnn_learner(dataBunch, models.resnet34, metrics=error_rate)\n",
        "# Question 7: We use function cnn_learner() to create an object that will learn a neural network\n",
        "# by feeding dataBunch to the pretrained resnet34.\n",
        "\n",
        "# 7.1) From which package was \"models\" imported?\n",
        "# \n",
        "# models.resent34 is a pretained neural network, that is, the neural network that is \n",
        "# already trained by using one and half a million images and thousands of categories. \n",
        "# We are going to train the new neural network  by using less than\n",
        "# 10000 dog and cat images and 37 categories. That is, we are going to retrain the\n",
        "# pretrained neural network \"resnet34\" by using few dogs and cats images (less than 1 % of the \n",
        "# dataset used to train the original pretrained neural network). \n",
        "# This neural network is supposed to classify new types of images, i.e. dogs and cats better than the original\n",
        "# resnet34. \n",
        "\n",
        "# In the following, the neural network \"freezes\" the much of the neural network \"reset34\" and retain\n",
        "# only a tiny part of it using the new dataset. This process is called \"learning transfer\".\n",
        "# \n",
        "# 7.2) Tell me which part of the resnet34 is re-trained and which part of it remains to be fixed?\n",
        "# To answer this question, refer:\n",
        "# the first figure in this site: https://towardsdatascience.com/a-comprehensive-guide-to-convolutional-neural-networks-the-eli5-way-3bd2b1164a53\n",
        "# # https://blog.roboflow.com/how-to-train-a-custom-resnet34-model/. \n",
        "# and picture \"34 layers residual\" in https://blog.roboflow.com/custom-resnet34-classification-model/ .\n",
        "\n",
        "# 7.3) Please tell me why this learning transfer would work? \n"
      ],
      "execution_count": null,
      "outputs": []
    },
    {
      "cell_type": "code",
      "metadata": {
        "id": "1jhE_pamHLwT"
      },
      "source": [
        "# Question 8: (8.1) Please re-train the neural network for 5 epochs.\n",
        "# (8.2) For each epoch, it will show the train_loss and the validation_loss. \n",
        "# Explain how these losses are computed. \n",
        "# (8.3) Tell me how the train_loss and the validation_loss change as the epoch progresses.\n",
        "# (8.4) Tell me how \"error_rate\" would be computed? \n",
        "# You need to refer to what kind of data is used to compute the error-rate.\n",
        "# (8.5) Would you increase the number of epochs or decrease it to get a better result?\n",
        " "
      ],
      "execution_count": null,
      "outputs": []
    },
    {
      "cell_type": "markdown",
      "metadata": {
        "id": "F9JPOsgsHLwa"
      },
      "source": [
        "## Results"
      ]
    },
    {
      "cell_type": "markdown",
      "metadata": {
        "id": "2ZAdHrB3HLwb"
      },
      "source": [
        "Let's see what results we have got. \n",
        "\n",
        "See  which were the categories that the model most confused with one another. We will try to see if what the model predicted was reasonable or not. In this case the mistakes look reasonable (none of the mistakes seems obviously naive). This is an indicator that our classifier is working correctly. \n",
        "\n",
        "Furthermore, when we plot the confusion matrix, we can see that the distribution is heavily skewed: the model makes the same mistakes over and over again but it rarely confuses other categories. This suggests that it just finds it difficult to distinguish some specific categories between each other; this is normal behaviour."
      ]
    },
    {
      "cell_type": "code",
      "metadata": {
        "id": "iBXjTogtHLwb"
      },
      "source": [
        "interpretation = ClassificationInterpretation.from_learner(learner)\n",
        "\n",
        "losses,indices = interpretation.top_losses()\n",
        "# QUestion 9. \n",
        "# 9.1) Please show the first 10 values of losses and indices, and explain  they represent?"
      ],
      "execution_count": null,
      "outputs": []
    },
    {
      "cell_type": "code",
      "metadata": {
        "id": "l0AZqzD9HLwf"
      },
      "source": [
        "# interp.plot_top_losses(12, largest=True, figsize=(20,11))\n",
        "# Question 10. 10.1) Use the above function to see the result of classification for the validation dataset. \n",
        "# Please explain the meaning of the first item and the meaning of the 12th item.\n",
        "# 10.2) execute interp.plot_top_losses(12, largest=False, figsize=(20,11))\n",
        "# Explain the meaning of the 12th item.\n"
      ],
      "execution_count": null,
      "outputs": []
    },
    {
      "cell_type": "code",
      "metadata": {
        "id": "aGO_0OkUHLwl"
      },
      "source": [
        "interpretation.plot_confusion_matrix(figsize=(12,12), dpi=60)\n",
        "# Question 11: 11.1) It will show the 37 x 37 matrix. What does the row of \n",
        "#  \"american_pit_bull_terrier\" tell you about the capability of this neural network?\n"
      ],
      "execution_count": null,
      "outputs": []
    }
  ]
}